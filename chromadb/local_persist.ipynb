{
 "cells": [
  {
   "cell_type": "markdown",
   "metadata": {},
   "source": [
    "Chromadb에서 단순히 client = chromadb.Client() 만 하는 경우 휘발성으로 런타임이 종료되면 지워진다.  \n",
    "그러나 실제 어플리케이션에서는 DB가 계속 존재하여야 한다.  \n",
    "이를 위해서 chromadb는 chromadb.PersistentClient(path=persist_directory) api를 통해 persistent 한 DB를 제공한다"
   ]
  },
  {
   "cell_type": "code",
   "execution_count": 1,
   "metadata": {},
   "outputs": [],
   "source": [
    "import chromadb\n",
    "\n",
    "# Create a new Chroma client with persistence enabled. \n",
    "persist_directory = \"db\"\n",
    "\n",
    "client = chromadb.PersistentClient(path=persist_directory)\n",
    "\n",
    "# Create a new chroma collection\n",
    "collection_name = \"peristed_collection\"\n",
    "collection = client.get_or_create_collection(name=collection_name)"
   ]
  },
  {
   "cell_type": "markdown",
   "metadata": {},
   "source": [
    "path 이름으로 sqlite3 기반의 chromadb 엔진이 형성 된 것을 확인할 수 있다."
   ]
  },
  {
   "cell_type": "code",
   "execution_count": 2,
   "metadata": {},
   "outputs": [],
   "source": [
    "collection.add(\n",
    "    embeddings=[\n",
    "        [1.1, 2.3, 3.2],\n",
    "        [4.5, 6.9, 4.4],\n",
    "        [1.1, 2.3, 3.2],\n",
    "        [4.5, 6.9, 4.4],\n",
    "        [1.1, 2.3, 3.2],\n",
    "        [4.5, 6.9, 4.4],\n",
    "        [1.1, 2.3, 3.2],\n",
    "        [4.5, 6.9, 4.4],\n",
    "    ],\n",
    "    metadatas=[\n",
    "        {\"uri\": \"img1.png\", \"style\": \"style1\"},\n",
    "        {\"uri\": \"img2.png\", \"style\": \"style2\"},\n",
    "        {\"uri\": \"img3.png\", \"style\": \"style1\"},\n",
    "        {\"uri\": \"img4.png\", \"style\": \"style1\"},\n",
    "        {\"uri\": \"img5.png\", \"style\": \"style1\"},\n",
    "        {\"uri\": \"img6.png\", \"style\": \"style1\"},\n",
    "        {\"uri\": \"img7.png\", \"style\": \"style1\"},\n",
    "        {\"uri\": \"img8.png\", \"style\": \"style1\"},\n",
    "    ],\n",
    "    documents=[\"doc1\", \"doc2\", \"doc3\", \"doc4\", \"doc5\", \"doc6\", \"doc7\", \"doc8\"],\n",
    "    ids=[\"id1\", \"id2\", \"id3\", \"id4\", \"id5\", \"id6\", \"id7\", \"id8\"],\n",
    ")"
   ]
  },
  {
   "cell_type": "code",
   "execution_count": 3,
   "metadata": {},
   "outputs": [],
   "source": [
    "# Create a new client with the same settings\n",
    "client = chromadb.PersistentClient(path=persist_directory)\n",
    "\n",
    "# Load the collection\n",
    "collection = client.get_collection(collection_name)"
   ]
  },
  {
   "cell_type": "markdown",
   "metadata": {},
   "source": [
    "query embedding을 통해 바로 쿼리를 추출할 수 있다.  \n",
    "embedding vector가 제일 유사한 첫번째 document 관련 정보가 추출된 것을 확인할 수 있다."
   ]
  },
  {
   "cell_type": "code",
   "execution_count": 4,
   "metadata": {},
   "outputs": [
    {
     "name": "stdout",
     "output_type": "stream",
     "text": [
      "{'ids': [['id1']], 'distances': [[0.0]], 'metadatas': [[{'style': 'style1', 'uri': 'img1.png'}]], 'embeddings': None, 'documents': [['doc1']], 'uris': None, 'data': None, 'included': ['metadatas', 'documents', 'distances']}\n"
     ]
    }
   ],
   "source": [
    "# Query the collection\n",
    "results = collection.query(\n",
    "    query_embeddings=[[1.1, 2.3, 3.2]],\n",
    "    n_results=1\n",
    ")\n",
    "\n",
    "print(results)"
   ]
  },
  {
   "cell_type": "code",
   "execution_count": 5,
   "metadata": {},
   "outputs": [
    {
     "data": {
      "text/plain": [
       "{'ids': ['id1', 'id2', 'id3', 'id4', 'id5', 'id6', 'id7', 'id8'],\n",
       " 'embeddings': [[1.1, 2.3, 3.2],\n",
       "  [4.5, 6.9, 4.4],\n",
       "  [1.1, 2.3, 3.2],\n",
       "  [4.5, 6.9, 4.4],\n",
       "  [1.1, 2.3, 3.2],\n",
       "  [4.5, 6.9, 4.4],\n",
       "  [1.1, 2.3, 3.2],\n",
       "  [4.5, 6.9, 4.4]],\n",
       " 'metadatas': [{'style': 'style1', 'uri': 'img1.png'},\n",
       "  {'style': 'style2', 'uri': 'img2.png'},\n",
       "  {'style': 'style1', 'uri': 'img3.png'},\n",
       "  {'style': 'style1', 'uri': 'img4.png'},\n",
       "  {'style': 'style1', 'uri': 'img5.png'},\n",
       "  {'style': 'style1', 'uri': 'img6.png'},\n",
       "  {'style': 'style1', 'uri': 'img7.png'},\n",
       "  {'style': 'style1', 'uri': 'img8.png'}],\n",
       " 'documents': ['doc1', 'doc2', 'doc3', 'doc4', 'doc5', 'doc6', 'doc7', 'doc8'],\n",
       " 'uris': None,\n",
       " 'data': None,\n",
       " 'included': ['embeddings', 'metadatas', 'documents']}"
      ]
     },
     "execution_count": 5,
     "metadata": {},
     "output_type": "execute_result"
    }
   ],
   "source": [
    "collection.get(include=[\"embeddings\", \"metadatas\", \"documents\"])"
   ]
  },
  {
   "cell_type": "code",
   "execution_count": null,
   "metadata": {},
   "outputs": [],
   "source": []
  }
 ],
 "metadata": {
  "kernelspec": {
   "display_name": "chromadb",
   "language": "python",
   "name": "python3"
  },
  "language_info": {
   "codemirror_mode": {
    "name": "ipython",
    "version": 3
   },
   "file_extension": ".py",
   "mimetype": "text/x-python",
   "name": "python",
   "nbconvert_exporter": "python",
   "pygments_lexer": "ipython3",
   "version": "3.10.14"
  }
 },
 "nbformat": 4,
 "nbformat_minor": 2
}
