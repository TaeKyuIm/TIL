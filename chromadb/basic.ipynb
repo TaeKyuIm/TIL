{
 "cells": [
  {
   "cell_type": "markdown",
   "metadata": {},
   "source": [
    "## 기본 사용법"
   ]
  },
  {
   "cell_type": "markdown",
   "metadata": {},
   "source": [
    "chromadb는 기본적으로 Vector DB 이다.  \n",
    "데이터를 어느 Embedding Vector로 표현을 하고, 해당 벡터들에 대해 벡터 연산을 통해 DB의 기능을 수행한다.  \n",
    "즉 데이터를 벡터로 바꿔주는 Embedding Function이 필요하고, chromadb는 기본적으로 onnx runtime 기반의 딥러닝 기반 embedding function을 제공한다.  \n",
    "\n",
    "GPU를 통해 가속이 가능하다. (CUDA만 가능, onnxruntime-gpu 라이브러리 설치 필수)"
   ]
  },
  {
   "cell_type": "code",
   "execution_count": 1,
   "metadata": {},
   "outputs": [
    {
     "name": "stdout",
     "output_type": "stream",
     "text": [
      "Number of questions with support:  10481\n"
     ]
    }
   ],
   "source": [
    "from datasets import load_dataset\n",
    "\n",
    "dataset = load_dataset(\"sciq\", split=\"train\")\n",
    "\n",
    "# Filter the dataset to only include questions with a support\n",
    "dataset = dataset.filter(lambda x: x[\"support\"] != \"\")\n",
    "\n",
    "print(\"Number of questions with support: \", len(dataset))"
   ]
  },
  {
   "cell_type": "markdown",
   "metadata": {},
   "source": [
    "sciq 데이터셋의 경우 \"support\"가 문장 형태로 질문에 대한 답변을 보조하는 부분이다.  \n",
    "따라서 support를 vector db에 추가"
   ]
  },
  {
   "cell_type": "code",
   "execution_count": 28,
   "metadata": {},
   "outputs": [
    {
     "name": "stdout",
     "output_type": "stream",
     "text": [
      "Question 1: What type of organism is commonly used in preparation of foods such as cheese and yogurt?\n",
      "Answer 1: Mesophiles grow best in moderate temperature, typically between 25°C and 40°C (77°F and 104°F). Mesophiles are often found living in or on the bodies of humans or other animals. The optimal growth temperature of many pathogenic mesophiles is 37°C (98°F), the normal human body temperature. Mesophilic organisms have important uses in food preparation, including cheese, yogurt, beer and wine.\n",
      "\n",
      "Question 2: What phenomenon makes global winds blow northeast to southwest or the reverse in the northern hemisphere and northwest to southeast or the reverse in the southern hemisphere?\n",
      "Answer 2: Without Coriolis Effect the global winds would blow north to south or south to north. But Coriolis makes them blow northeast to southwest or the reverse in the Northern Hemisphere. The winds blow northwest to southeast or the reverse in the southern hemisphere.\n",
      "\n",
      "Question 3: Changes from a less-ordered state to a more-ordered state (such as a liquid to a solid) are always what?\n",
      "Answer 3: Summary Changes of state are examples of phase changes, or phase transitions. All phase changes are accompanied by changes in the energy of a system. Changes from a more-ordered state to a less-ordered state (such as a liquid to a gas) areendothermic. Changes from a less-ordered state to a more-ordered state (such as a liquid to a solid) are always exothermic. The conversion of a solid to a liquid is called fusion (or melting). The energy required to melt 1 mol of a substance is its enthalpy of fusion (ΔHfus). The energy change required to vaporize 1 mol of a substance is the enthalpy of vaporization (ΔHvap). The direct conversion of a solid to a gas is sublimation. The amount of energy needed to sublime 1 mol of a substance is its enthalpy of sublimation (ΔHsub) and is the sum of the enthalpies of fusion and vaporization. Plots of the temperature of a substance versus heat added or versus heating time at a constant rate of heating are calledheating curves. Heating curves relate temperature changes to phase transitions. A superheated liquid, a liquid at a temperature and pressure at which it should be a gas, is not stable. A cooling curve is not exactly the reverse of the heating curve because many liquids do not freeze at the expected temperature. Instead, they form a supercooled liquid, a metastable liquid phase that exists below the normal melting point. Supercooled liquids usually crystallize on standing, or adding a seed crystal of the same or another substance can induce crystallization.\n",
      "\n",
      "Question 4: What is the least dangerous radioactive decay?\n",
      "Answer 4: All radioactive decay is dangerous to living things, but alpha decay is the least dangerous.\n",
      "\n",
      "Question 5: Kilauea in hawaii is the world’s most continuously active volcano. very active volcanoes characteristically eject red-hot rocks and lava rather than this?\n",
      "Answer 5: Example 3.5 Calculating Projectile Motion: Hot Rock Projectile Kilauea in Hawaii is the world’s most continuously active volcano. Very active volcanoes characteristically eject red-hot rocks and lava rather than smoke and ash. Suppose a large rock is ejected from the volcano with a speed of 25.0 m/s and at an angle 35.0º above the horizontal, as shown in Figure 3.40. The rock strikes the side of the volcano at an altitude 20.0 m lower than its starting point. (a) Calculate the time it takes the rock to follow this path. (b) What are the magnitude and direction of the rock’s velocity at impact?.\n",
      "\n"
     ]
    }
   ],
   "source": [
    "for i in range(5):\n",
    "    print(f\"Question {i+1}: {dataset['question'][i]}\")\n",
    "    print(f\"Answer {i+1}: {dataset['support'][i]}\")\n",
    "    print()"
   ]
  },
  {
   "cell_type": "code",
   "execution_count": 2,
   "metadata": {},
   "outputs": [
    {
     "data": {
      "application/vnd.jupyter.widget-view+json": {
       "model_id": "c52e3d2891a94137a596e7291de01e90",
       "version_major": 2,
       "version_minor": 0
      },
      "text/plain": [
       "Adding documents:   0%|          | 0/11 [00:00<?, ?it/s]"
      ]
     },
     "metadata": {},
     "output_type": "display_data"
    },
    {
     "name": "stdout",
     "output_type": "stream",
     "text": [
      "*************** EP Error ***************\n",
      "EP Error D:\\a\\_work\\1\\s\\onnxruntime\\python\\onnxruntime_pybind_state.cc:456 onnxruntime::python::RegisterTensorRTPluginsAsCustomOps Please install TensorRT libraries as mentioned in the GPU requirements page, make sure they're in the PATH or LD_LIBRARY_PATH, and that your GPU is supported.\n",
      " when using ['TensorrtExecutionProvider', 'CUDAExecutionProvider', 'CPUExecutionProvider']\n",
      "Falling back to ['CUDAExecutionProvider', 'CPUExecutionProvider'] and retrying.\n",
      "****************************************\n"
     ]
    }
   ],
   "source": [
    "import chromadb\n",
    "\n",
    "client = chromadb.Client()\n",
    "collection = client.create_collection(\"sciq_supports\")\n",
    "\n",
    "from tqdm.notebook import tqdm\n",
    "\n",
    "# Load the supporting evidence in batches of 1000\n",
    "batch_size = 1000\n",
    "for i in tqdm(range(0, len(dataset), batch_size), desc=\"Adding documents\"):\n",
    "    collection.add(\n",
    "        ids=[\n",
    "            str(i) for i in range(i, min(i + batch_size, len(dataset)))\n",
    "        ],\n",
    "        documents=dataset[\"support\"][i : i + batch_size], # 실제로 추가할 데이터\n",
    "        metadatas=[\n",
    "            {\"type\": \"support\"} for _ in range(i, min(i + batch_size, len(dataset)))\n",
    "        ],\n",
    "    )"
   ]
  },
  {
   "cell_type": "markdown",
   "metadata": {},
   "source": [
    "밑의 예시와 같이 query_texts에 낱말이나 단어가 제시되면 해당 토큰을 임베딩 시켜 제일 유사한\n",
    "정보를 DB에서 찾아서 추출한다."
   ]
  },
  {
   "cell_type": "code",
   "execution_count": 29,
   "metadata": {},
   "outputs": [
    {
     "name": "stdout",
     "output_type": "stream",
     "text": [
      "검색 질문: What type of organism is commonly used in preparation of foods such as cheese and yogurt?\n",
      "Chromadb에 의해 검색된 답변: Bacteria can be used to make cheese from milk. The bacteria turn the milk sugars into lactic acid. The acid is what causes the milk to curdle to form cheese. Bacteria are also involved in producing other foods. Yogurt is made by using bacteria to ferment milk ( Figure below ). Fermenting cabbage with bacteria produces sauerkraut.\n",
      "\n",
      "검색 질문: What phenomenon makes global winds blow northeast to southwest or the reverse in the northern hemisphere and northwest to southeast or the reverse in the southern hemisphere?\n",
      "Chromadb에 의해 검색된 답변: Without Coriolis Effect the global winds would blow north to south or south to north. But Coriolis makes them blow northeast to southwest or the reverse in the Northern Hemisphere. The winds blow northwest to southeast or the reverse in the southern hemisphere.\n",
      "\n",
      "검색 질문: Changes from a less-ordered state to a more-ordered state (such as a liquid to a solid) are always what?\n",
      "Chromadb에 의해 검색된 답변: Solids that change to gases generally first pass through the liquid state. However, sometimes solids change directly to gases and skip the liquid state. The reverse can also occur. Sometimes gases change directly to solids.\n",
      "\n",
      "검색 질문: What is the least dangerous radioactive decay?\n",
      "Chromadb에 의해 검색된 답변: All radioactive decay is dangerous to living things, but alpha decay is the least dangerous.\n",
      "\n",
      "검색 질문: Kilauea in hawaii is the world’s most continuously active volcano. very active volcanoes characteristically eject red-hot rocks and lava rather than this?\n",
      "Chromadb에 의해 검색된 답변: Volcanoes can be active, dormant, or extinct.\n",
      "\n",
      "검색 질문: When a meteoroid reaches earth, what is the remaining object called?\n",
      "Chromadb에 의해 검색된 답변: A meteoroid is dragged toward Earth by gravity and enters the atmosphere. Friction with the atmosphere heats the object quickly, so it starts to vaporize. As it flies through the atmosphere, it leaves a trail of glowing gases. The object is now a meteor. Most meteors vaporize in the atmosphere. They never reach Earth’s surface. Large meteoroids may not burn up entirely in the atmosphere. A small core may remain and hit Earth’s surface. This is called a meteorite .\n",
      "\n",
      "검색 질문: What kind of a reaction occurs when a substance reacts quickly with oxygen?\n",
      "Chromadb에 의해 검색된 답변: A combustion reaction occurs when a substance reacts quickly with oxygen (O 2 ). You can see an example of a combustion reaction in Figure below . Combustion is commonly called burning. The substance that burns is usually referred to as fuel. The products of a combustion reaction include carbon dioxide (CO 2 ) and water (H 2 O). The reaction typically gives off heat and light as well. The general equation for a combustion reaction can be represented by:.\n",
      "\n",
      "검색 질문: Organisms categorized by what species descriptor demonstrate a version of allopatric speciation and have limited regions of overlap with one another, but where they overlap they interbreed successfully?.\n",
      "Chromadb에 의해 검색된 답변: Allopatric speciation occurs when groups from the same species are geographically isolated for long periods. Imagine all the ways that plants or animals could be isolated from each other:.\n",
      "\n",
      "검색 질문: Alpha emission is a type of what?\n",
      "Chromadb에 의해 검색된 답변: One type of radioactivity is alpha emission. What is an alpha particle? What happens to an alpha particle after it is emitted from an unstable nucleus?.\n",
      "\n",
      "검색 질문: What is the stored food in a seed called?\n",
      "Chromadb에 의해 검색된 답변: The stored food in a seed is called endosperm . It nourishes the embryo until it can start making food on its own.\n",
      "\n"
     ]
    }
   ],
   "source": [
    "results = collection.query(\n",
    "    query_texts=dataset[\"question\"][:10],\n",
    "    n_results=1)\n",
    "\n",
    "# Print the question and the corresponding support\n",
    "for i, q in enumerate(dataset['question'][:10]):\n",
    "    print(f\"검색 질문: {q}\")\n",
    "    print(f\"Chromadb에 의해 검색된 답변: {results['documents'][i][0]}\")\n",
    "    print()"
   ]
  },
  {
   "cell_type": "code",
   "execution_count": 37,
   "metadata": {},
   "outputs": [],
   "source": [
    "keywords = [\"Physics\", \"Computer\", \"Machine Learning\"]\n",
    "results = collection.query(\n",
    "    query_texts=keywords,\n",
    "    n_results=1)"
   ]
  },
  {
   "cell_type": "code",
   "execution_count": 39,
   "metadata": {},
   "outputs": [
    {
     "name": "stdout",
     "output_type": "stream",
     "text": [
      "검색 단어: Physics\n",
      "Chromadb에 의해 검색된 답변: Physics is the study of energy and how it interacts with matter. Important concepts in physics include motion, forces such as magnetism and gravity, and different forms of energy. Physics concepts can answer all the questions on the right page of the notebook in Figure above .\n",
      "\n",
      "검색 단어: Computer\n",
      "Chromadb에 의해 검색된 답변: Over the past several decades, computer technology has revolutionized human society. Watch this video interview about ways computers have changed people’s lives. Then answer the questions below.\n",
      "\n",
      "검색 단어: Machine Learning\n",
      "Chromadb에 의해 검색된 답변: Scientists create models with computers. Computers can handle enormous amounts of data. This can more accurately represent the real situation. For example, Earth’s climate depends on an enormous number of factors. Climate models can predict how climate will change as certain gases are added to the atmosphere. To test how good a model is, scientists might start a test run at a time in the past. If the model can predict the present it is probably a good model. It is more likely to be accurate when predicting the future.\n",
      "\n"
     ]
    }
   ],
   "source": [
    "# Print the question and the corresponding support\n",
    "for i in range(len(keywords)):\n",
    "    print(f\"검색 단어: {keywords[i]}\")\n",
    "    print(f\"Chromadb에 의해 검색된 답변: {results['documents'][i][0]}\")\n",
    "    print()"
   ]
  },
  {
   "cell_type": "code",
   "execution_count": null,
   "metadata": {},
   "outputs": [],
   "source": []
  }
 ],
 "metadata": {
  "kernelspec": {
   "display_name": "LLM",
   "language": "python",
   "name": "python3"
  },
  "language_info": {
   "codemirror_mode": {
    "name": "ipython",
    "version": 3
   },
   "file_extension": ".py",
   "mimetype": "text/x-python",
   "name": "python",
   "nbconvert_exporter": "python",
   "pygments_lexer": "ipython3",
   "version": "3.10.14"
  }
 },
 "nbformat": 4,
 "nbformat_minor": 2
}
